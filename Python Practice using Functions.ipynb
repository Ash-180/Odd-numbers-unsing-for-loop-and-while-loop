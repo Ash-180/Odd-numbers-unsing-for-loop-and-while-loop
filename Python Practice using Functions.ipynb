{
 "cells": [
  {
   "cell_type": "code",
   "execution_count": 1,
   "metadata": {},
   "outputs": [
    {
     "name": "stdout",
     "output_type": "stream",
     "text": [
      "Enter any word: ashwin\n",
      "\n",
      "Number of chars: 6\n",
      "\n",
      "                                                                ashwin\n"
     ]
    }
   ],
   "source": [
    "def right_justify(s):\n",
    "    print ('')\n",
    "    print ('Number of chars: ' + str(len(s)))\n",
    "    print ('')\n",
    "    print (' '* (70 - len(s)) + s)\n",
    "\n",
    "word = input('Enter any word: ')\n",
    "right_justify(word)"
   ]
  },
  {
   "cell_type": "code",
   "execution_count": 3,
   "metadata": {},
   "outputs": [
    {
     "name": "stdout",
     "output_type": "stream",
     "text": [
      "The total cost is: $ 939.75\n"
     ]
    }
   ],
   "source": [
    "#Cover Price of Book = 30.00\n",
    "#Discount = 40%\n",
    "#Shipping cost = 2 for first copy and .75 for additional copy\n",
    "#Whole sale cost for 60 copies = ??\n",
    "\n",
    "bookCost = 30.00\n",
    "numBooks = 50.0\n",
    "\n",
    "def cost(numBooks):\n",
    "    bulkBookCost = ((bookCost * 0.60) * numBooks)\n",
    "    shippingCost = (2.0 + (0.75 * (numBooks - 1)))\n",
    "    totalCost = bulkBookCost + shippingCost\n",
    "    print ('The total cost is: $', totalCost)\n",
    "\n",
    "cost(numBooks)"
   ]
  },
  {
   "cell_type": "code",
   "execution_count": null,
   "metadata": {},
   "outputs": [],
   "source": [
    "#Printing fibonacci series using Function\n",
    "def fibonacci(n):\n",
    "    n = int(input(\"Number of Fibonacci Series:\"))\n",
    "    a=1\n",
    "    b=1\n",
    "    if n==1:\n",
    "        print('0')\n",
    "    elif n==2:\n",
    "        print('0','1')\n",
    "    else:\n",
    "        print(\"Fibonacci series: \", end=' ')\n",
    "        print('0',a,b,end=' ')\n",
    "        for i in range(n-3):\n",
    "            total = a + b\n",
    "            b=a\n",
    "            a= total\n",
    "            print(total,end=' ')\n",
    "        print()\n",
    "        return b\n",
    "fibonacci(10)    "
   ]
  },
  {
   "cell_type": "code",
   "execution_count": null,
   "metadata": {},
   "outputs": [],
   "source": [
    "import math\n",
    "# Function to calculate distance\n",
    "def distance(x1 , x2 , y1 , y2):\n",
    " \n",
    "    # Calculating distance\n",
    "    return math.sqrt(math.pow(x1 - x2, 2) +\n",
    "                math.pow(y1 - y2, 2) * 1.0)\n",
    " \n",
    "# Driver Code\n",
    "print(\"%.6f\"%distance(4, 6, 0, 6))"
   ]
  },
  {
   "cell_type": "code",
   "execution_count": null,
   "metadata": {},
   "outputs": [],
   "source": [
    "#Question-1\n",
    "Maths=float(input(\"Enter score for Maths: \"))\n",
    "Computer=float(input(\"Enter score for Computer: \"))\n",
    "English=float(input(\"Enter score for English: \"))\n",
    "Science=float(input(\"Enter score for Science: \"))\n",
    "Japanese= float(input(\"Enter score for Japanese: \"))\n",
    "score=(Maths+Computer+English+Science+Japanese)/5\n",
    "#Function Creation\n",
    "def Grade(score):\n",
    "    grade_lookup = {\n",
    "                    0<=score: \"F\",\n",
    "                    50<=score: \"D\",\n",
    "                    70<=score: \"C\",\n",
    "                    80<=score: \"B\",\n",
    "                    90<=score<=100: \"A\",\n",
    "                    }\n",
    "\n",
    "    print(\"Your Total Score\",score)\n",
    "    grade = grade_lookup.get(True,grade_lookup)\n",
    "    print(\"Your grade\",grade)\n",
    "\n",
    "\n",
    "Grade(score)"
   ]
  }
 ],
 "metadata": {
  "kernelspec": {
   "display_name": "Python 3",
   "language": "python",
   "name": "python3"
  },
  "language_info": {
   "codemirror_mode": {
    "name": "ipython",
    "version": 3
   },
   "file_extension": ".py",
   "mimetype": "text/x-python",
   "name": "python",
   "nbconvert_exporter": "python",
   "pygments_lexer": "ipython3",
   "version": "3.8.3"
  }
 },
 "nbformat": 4,
 "nbformat_minor": 4
}
